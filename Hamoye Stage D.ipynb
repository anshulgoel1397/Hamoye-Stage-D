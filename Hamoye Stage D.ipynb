{
  "nbformat": 4,
  "nbformat_minor": 0,
  "metadata": {
    "colab": {
      "name": "Untitled3.ipynb",
      "provenance": [],
      "collapsed_sections": []
    },
    "kernelspec": {
      "name": "python3",
      "display_name": "Python 3"
    },
    "language_info": {
      "name": "python"
    },
    "accelerator": "GPU"
  },
  "cells": [
    {
      "cell_type": "code",
      "execution_count": 1,
      "metadata": {
        "colab": {
          "base_uri": "https://localhost:8080/"
        },
        "id": "I4HuTbEWhg_8",
        "outputId": "164869a4-3a86-4295-963e-b43e734fee72"
      },
      "outputs": [
        {
          "output_type": "stream",
          "name": "stdout",
          "text": [
            "planets-dataset.zip: Skipping, found more recently modified local copy (use --force to force download)\n"
          ]
        }
      ],
      "source": [
        "import os\n",
        "os.environ['KAGGLE_USERNAME'] = \"anshulgoel131297\"   # enter username.\n",
        "os.environ['KAGGLE_KEY'] = \"29c0d73a21d4a2bf81620533754b9ab3\"     # enter kaggle key.\n",
        "#required API command\n",
        "!kaggle datasets download -d nikitarom/planets-dataset"
      ]
    },
    {
      "cell_type": "code",
      "source": [
        "from keras.preprocessing.image import ImageDataGenerator\n",
        "from tensorflow.keras.models import Sequential\n",
        "from keras.layers import Dense, Activation, Flatten, Dropout, BatchNormalization\n",
        "from keras.layers import Conv2D, MaxPooling2D\n",
        "from keras import regularizers\n",
        "from tensorflow.keras import optimizers\n",
        "import pandas as pd\n",
        "import numpy as np\n",
        "import matplotlib.pyplot as plt\n",
        "import gc\n",
        "import pickle"
      ],
      "metadata": {
        "id": "S34mIdxTjZdw"
      },
      "execution_count": 2,
      "outputs": []
    },
    {
      "cell_type": "code",
      "source": [
        "gc.collect()\n"
      ],
      "metadata": {
        "colab": {
          "base_uri": "https://localhost:8080/"
        },
        "id": "yE5q3ViTjZpK",
        "outputId": "ff9662eb-987d-4546-8588-a6ca61871116"
      },
      "execution_count": 3,
      "outputs": [
        {
          "output_type": "execute_result",
          "data": {
            "text/plain": [
              "50"
            ]
          },
          "metadata": {},
          "execution_count": 3
        }
      ]
    },
    {
      "cell_type": "code",
      "source": [
        "def append_ext(fn):\n",
        "    return fn + \".jpg\"\n",
        "\n",
        "traindf = pd.read_csv('planet-understanding-the-amazon-from-space/train_v2.csv', dtype=str)\n",
        "testdf = pd.read_csv('planet-understanding-the-amazon-from-space/sample_submission_v2.csv', dtype=str)\n",
        "\n",
        "traindf[\"image_name\"] = traindf[\"image_name\"].apply(append_ext)\n",
        "testdf[\"image_name\"] = testdf[\"image_name\"].apply(append_ext)\n",
        "\n",
        "datagen = ImageDataGenerator(rescale = 1./255.,\n",
        "                             validation_split = 0.25,\n",
        "                             rotation_range = 10,\n",
        "                             width_shift_range = 0.2,\n",
        "                             height_shift_range = 0.2,\n",
        "                             zoom_range = 0.2,\n",
        "                             horizontal_flip = True,\n",
        "                             brightness_range = [0.2,1.2])"
      ],
      "metadata": {
        "id": "kVfZy-bLqxAE"
      },
      "execution_count": 4,
      "outputs": []
    },
    {
      "cell_type": "code",
      "source": [
        ""
      ],
      "metadata": {
        "id": "9ntjlN0gzj8F"
      },
      "execution_count": 4,
      "outputs": []
    },
    {
      "cell_type": "code",
      "source": [
        ""
      ],
      "metadata": {
        "id": "uG-IM6vYzkGG"
      },
      "execution_count": 4,
      "outputs": []
    },
    {
      "cell_type": "code",
      "source": [
        ""
      ],
      "metadata": {
        "id": "yvn-4zwkzkJc"
      },
      "execution_count": 4,
      "outputs": []
    },
    {
      "cell_type": "code",
      "source": [
        "!unzip planets-dataset.zip\n",
        "\n"
      ],
      "metadata": {
        "id": "WTginxhoqxC-",
        "colab": {
          "base_uri": "https://localhost:8080/"
        },
        "outputId": "e568dca3-32c4-4b72-be07-839ca0f32e97"
      },
      "execution_count": 5,
      "outputs": [
        {
          "output_type": "stream",
          "name": "stdout",
          "text": [
            "Archive:  planets-dataset.zip\n",
            "replace planet/planet/sample_submission.csv? [y]es, [n]o, [A]ll, [N]one, [r]ename: N\n"
          ]
        }
      ]
    },
    {
      "cell_type": "code",
      "source": [
        "train_generator = datagen.flow_from_dataframe(\n",
        "    dataframe = traindf,\n",
        "    directory = '/content/planet/planet/train-jpg',\n",
        "    x_col = 'image_name',\n",
        "    y_col = 'tags',\n",
        "    subset = 'training',\n",
        "    batch_size = 340,\n",
        "    seed = 42,\n",
        "    shuffle = True,\n",
        "    class_mode = 'categorical',\n",
        "    target_size = (32, 32))"
      ],
      "metadata": {
        "id": "4xUAHcUOqxF1",
        "colab": {
          "base_uri": "https://localhost:8080/"
        },
        "outputId": "43146737-fc78-479b-c650-694dea5f485d"
      },
      "execution_count": 6,
      "outputs": [
        {
          "output_type": "stream",
          "name": "stdout",
          "text": [
            "Found 30360 validated image filenames belonging to 449 classes.\n"
          ]
        }
      ]
    },
    {
      "cell_type": "code",
      "source": [
        "valid_generator = datagen.flow_from_dataframe(\n",
        "    dataframe = traindf,\n",
        "    directory = '/content/planet/planet/train-jpg',\n",
        "    x_col = 'image_name',\n",
        "    y_col = 'tags',\n",
        "    subset = 'validation',\n",
        "    batch_size = 340,\n",
        "    seed = 42,\n",
        "    shuffle = True,\n",
        "    class_mode = 'categorical',\n",
        "    target_size = (32, 32))"
      ],
      "metadata": {
        "id": "Wzd2sLBEqxJT",
        "colab": {
          "base_uri": "https://localhost:8080/"
        },
        "outputId": "ace6e81f-13db-4003-ff65-cf47e45f7702"
      },
      "execution_count": 7,
      "outputs": [
        {
          "output_type": "stream",
          "name": "stdout",
          "text": [
            "Found 10119 validated image filenames belonging to 449 classes.\n"
          ]
        }
      ]
    },
    {
      "cell_type": "code",
      "source": [
        "test_generator = datagen.flow_from_dataframe(\n",
        "    dataframe = testdf,\n",
        "    directory = '/content/planet/planet/test-jpg',\n",
        "    x_col = 'image_name',\n",
        "    y_col = None,\n",
        "    batch_size = 340,\n",
        "    seed = 42,\n",
        "    shuffle = False,\n",
        "    class_mode = None,\n",
        "    target_size = (32, 32))"
      ],
      "metadata": {
        "colab": {
          "base_uri": "https://localhost:8080/"
        },
        "id": "v__Hi0Oe2gmg",
        "outputId": "9e133c0f-d407-4712-b9da-69d70a820c2f"
      },
      "execution_count": 8,
      "outputs": [
        {
          "output_type": "stream",
          "name": "stdout",
          "text": [
            "Found 40669 validated image filenames.\n"
          ]
        },
        {
          "output_type": "stream",
          "name": "stderr",
          "text": [
            "/usr/local/lib/python3.7/dist-packages/keras_preprocessing/image/dataframe_iterator.py:282: UserWarning: Found 20522 invalid image filename(s) in x_col=\"image_name\". These filename(s) will be ignored.\n",
            "  .format(n_invalid, x_col)\n"
          ]
        }
      ]
    },
    {
      "cell_type": "code",
      "source": [
        "test_generator2 = datagen.flow_from_dataframe(\n",
        "    dataframe = testdf,\n",
        "    directory = '/content/test-jpg-additional/test-jpg-additional',\n",
        "    x_col = 'image_name',\n",
        "    y_col = None,\n",
        "    batch_size = 340,\n",
        "    seed = 42,\n",
        "    shuffle = False,\n",
        "    class_mode = None,\n",
        "    target_size = (32, 32))"
      ],
      "metadata": {
        "colab": {
          "base_uri": "https://localhost:8080/"
        },
        "id": "za1fxKd12gwK",
        "outputId": "e5830364-2f72-4793-ccd1-7e1b24962937"
      },
      "execution_count": 9,
      "outputs": [
        {
          "output_type": "stream",
          "name": "stdout",
          "text": [
            "Found 20522 validated image filenames.\n"
          ]
        },
        {
          "output_type": "stream",
          "name": "stderr",
          "text": [
            "/usr/local/lib/python3.7/dist-packages/keras_preprocessing/image/dataframe_iterator.py:282: UserWarning: Found 40669 invalid image filename(s) in x_col=\"image_name\". These filename(s) will be ignored.\n",
            "  .format(n_invalid, x_col)\n"
          ]
        }
      ]
    },
    {
      "cell_type": "code",
      "source": [
        "model = Sequential()\n",
        "\n",
        "# model.add(BatchNormalization())\n",
        "model.add(Conv2D(64, (3, 3), padding='same', input_shape=(32, 32, 3)))\n",
        "model.add(Conv2D(64, (3, 3), padding='same'))\n",
        "model.add(Activation('relu'))\n",
        "model.add(MaxPooling2D(pool_size=(2,2)))\n",
        "# model.add(Dropout(0.25))\n",
        "\n",
        "model.add(Conv2D(128, (3, 3), padding='same'))\n",
        "model.add(Conv2D(128, (3, 3), padding='same'))\n",
        "model.add(Activation('relu'))\n",
        "model.add(MaxPooling2D(pool_size=(2,2)))\n",
        "# model.add(Dropout(0.5))\n",
        "\n",
        "model.add(Conv2D(256, (3, 3), padding='same'))\n",
        "model.add(Conv2D(256, (3, 3), padding='same'))\n",
        "model.add(Conv2D(256, (3, 3), padding='same'))\n",
        "model.add(Activation('relu'))\n",
        "model.add(MaxPooling2D(pool_size=(2,2)))\n",
        "# model.add(Dropout(0.5))\n",
        "\n",
        "model.add(Conv2D(512, (3, 3), padding='same'))\n",
        "model.add(Conv2D(512, (3, 3), padding='same'))\n",
        "model.add(Conv2D(512, (3, 3), padding='same'))\n",
        "model.add(Activation('relu'))\n",
        "model.add(MaxPooling2D(pool_size=(2,2)))\n",
        "# model.add(Dropout(0.5))\n",
        "\n",
        "model.add(Conv2D(512, (3, 3), padding='same'))\n",
        "model.add(Conv2D(512, (3, 3), padding='same'))\n",
        "model.add(Conv2D(512, (3, 3), padding='same'))\n",
        "model.add(Activation('relu'))\n",
        "model.add(MaxPooling2D(pool_size=(2,2)))\n",
        "# model.add(Dropout(0.5))\n",
        "\n",
        "model.add(Flatten())\n",
        "model.add(Dense(4096))\n",
        "model.add(Dense(4096))\n",
        "model.add(Activation('relu'))\n",
        "# model.add(Dropout(0.5))\n",
        "\n",
        "model.add(Dense(449, activation='softmax'))\n",
        "opt = optimizers.RMSprop(learning_rate=0.0001)\n",
        "model.compile(optimizer=opt,\n",
        "              loss='categorical_crossentropy',\n",
        "              metrics=['accuracy'])"
      ],
      "metadata": {
        "id": "xOmceuez2gzG"
      },
      "execution_count": 10,
      "outputs": []
    },
    {
      "cell_type": "code",
      "source": [
        "model.summary()\n"
      ],
      "metadata": {
        "colab": {
          "base_uri": "https://localhost:8080/"
        },
        "id": "nV2tEtJH2g14",
        "outputId": "40e05aca-d4eb-438b-ff16-4b55235fed12"
      },
      "execution_count": 11,
      "outputs": [
        {
          "output_type": "stream",
          "name": "stdout",
          "text": [
            "Model: \"sequential\"\n",
            "_________________________________________________________________\n",
            " Layer (type)                Output Shape              Param #   \n",
            "=================================================================\n",
            " conv2d (Conv2D)             (None, 32, 32, 64)        1792      \n",
            "                                                                 \n",
            " conv2d_1 (Conv2D)           (None, 32, 32, 64)        36928     \n",
            "                                                                 \n",
            " activation (Activation)     (None, 32, 32, 64)        0         \n",
            "                                                                 \n",
            " max_pooling2d (MaxPooling2D  (None, 16, 16, 64)       0         \n",
            " )                                                               \n",
            "                                                                 \n",
            " conv2d_2 (Conv2D)           (None, 16, 16, 128)       73856     \n",
            "                                                                 \n",
            " conv2d_3 (Conv2D)           (None, 16, 16, 128)       147584    \n",
            "                                                                 \n",
            " activation_1 (Activation)   (None, 16, 16, 128)       0         \n",
            "                                                                 \n",
            " max_pooling2d_1 (MaxPooling  (None, 8, 8, 128)        0         \n",
            " 2D)                                                             \n",
            "                                                                 \n",
            " conv2d_4 (Conv2D)           (None, 8, 8, 256)         295168    \n",
            "                                                                 \n",
            " conv2d_5 (Conv2D)           (None, 8, 8, 256)         590080    \n",
            "                                                                 \n",
            " conv2d_6 (Conv2D)           (None, 8, 8, 256)         590080    \n",
            "                                                                 \n",
            " activation_2 (Activation)   (None, 8, 8, 256)         0         \n",
            "                                                                 \n",
            " max_pooling2d_2 (MaxPooling  (None, 4, 4, 256)        0         \n",
            " 2D)                                                             \n",
            "                                                                 \n",
            " conv2d_7 (Conv2D)           (None, 4, 4, 512)         1180160   \n",
            "                                                                 \n",
            " conv2d_8 (Conv2D)           (None, 4, 4, 512)         2359808   \n",
            "                                                                 \n",
            " conv2d_9 (Conv2D)           (None, 4, 4, 512)         2359808   \n",
            "                                                                 \n",
            " activation_3 (Activation)   (None, 4, 4, 512)         0         \n",
            "                                                                 \n",
            " max_pooling2d_3 (MaxPooling  (None, 2, 2, 512)        0         \n",
            " 2D)                                                             \n",
            "                                                                 \n",
            " conv2d_10 (Conv2D)          (None, 2, 2, 512)         2359808   \n",
            "                                                                 \n",
            " conv2d_11 (Conv2D)          (None, 2, 2, 512)         2359808   \n",
            "                                                                 \n",
            " conv2d_12 (Conv2D)          (None, 2, 2, 512)         2359808   \n",
            "                                                                 \n",
            " activation_4 (Activation)   (None, 2, 2, 512)         0         \n",
            "                                                                 \n",
            " max_pooling2d_4 (MaxPooling  (None, 1, 1, 512)        0         \n",
            " 2D)                                                             \n",
            "                                                                 \n",
            " flatten (Flatten)           (None, 512)               0         \n",
            "                                                                 \n",
            " dense (Dense)               (None, 4096)              2101248   \n",
            "                                                                 \n",
            " dense_1 (Dense)             (None, 4096)              16781312  \n",
            "                                                                 \n",
            " activation_5 (Activation)   (None, 4096)              0         \n",
            "                                                                 \n",
            " dense_2 (Dense)             (None, 449)               1839553   \n",
            "                                                                 \n",
            "=================================================================\n",
            "Total params: 35,436,801\n",
            "Trainable params: 35,436,801\n",
            "Non-trainable params: 0\n",
            "_________________________________________________________________\n"
          ]
        }
      ]
    },
    {
      "cell_type": "code",
      "source": [
        "!wget https://developer.nvidia.com/compute/cuda/9.2/Prod/local_installers/cuda-repo-ubuntu1604-9-2-local_9.2.88-1_amd64 -O cuda-repo-ubuntu1604-9-2-local_9.2.88-1_amd64.deb\n",
        "!dpkg -i cuda-repo-ubuntu1604-9-2-local_9.2.88-1_amd64.deb\n",
        "!apt-key add /var/cuda-repo-9-2-local/7fa2af80.pub\n",
        "!apt-get update\n",
        "!apt-get install cuda-9.2"
      ],
      "metadata": {
        "colab": {
          "base_uri": "https://localhost:8080/"
        },
        "id": "4TttgWIC7jMg",
        "outputId": "a71b4b9d-99b8-41d0-f07c-1dedf64a7693"
      },
      "execution_count": 12,
      "outputs": [
        {
          "output_type": "stream",
          "name": "stdout",
          "text": [
            "N\n",
            "--2022-03-22 12:03:27--  https://developer.nvidia.com/compute/cuda/9.2/Prod/local_installers/cuda-repo-ubuntu1604-9-2-local_9.2.88-1_amd64\n",
            "Resolving developer.nvidia.com (developer.nvidia.com)... 152.195.19.142\n",
            "Connecting to developer.nvidia.com (developer.nvidia.com)|152.195.19.142|:443... connected.\n",
            "HTTP request sent, awaiting response... 301 Moved Permanently\n",
            "Location: https://developer.nvidia.com/compute/cuda/9.2/prod/local_installers/cuda-repo-ubuntu1604-9-2-local_9.2.88-1_amd64 [following]\n",
            "--2022-03-22 12:03:28--  https://developer.nvidia.com/compute/cuda/9.2/prod/local_installers/cuda-repo-ubuntu1604-9-2-local_9.2.88-1_amd64\n",
            "Reusing existing connection to developer.nvidia.com:443.\n",
            "HTTP request sent, awaiting response... 302 Found\n",
            "Location: https://developer.download.nvidia.com/compute/cuda/9.2/secure/Prod/local_installers/cuda-repo-ubuntu1604-9-2-local_9.2.88-1_amd64.deb?gNscdxIrGOqRgu_7B8wj6HiWQ4QM2RXoogpTGMtqRL-8egByGemXdtIniNTQUyrEeInzKFwm-jZWGJFLysRsyvJt8meSRhf3MkB8IRr16Gk9M1KxPYh2P5ADLRsHY4p2eqv212SucBlO4CRTvfiD1UkbstnjDwrdJa3aqLTBqoaBGpPJ75YSpw_rqESl0bsrtTA8X09RB1GCgxLRVMk [following]\n",
            "--2022-03-22 12:03:28--  https://developer.download.nvidia.com/compute/cuda/9.2/secure/Prod/local_installers/cuda-repo-ubuntu1604-9-2-local_9.2.88-1_amd64.deb?gNscdxIrGOqRgu_7B8wj6HiWQ4QM2RXoogpTGMtqRL-8egByGemXdtIniNTQUyrEeInzKFwm-jZWGJFLysRsyvJt8meSRhf3MkB8IRr16Gk9M1KxPYh2P5ADLRsHY4p2eqv212SucBlO4CRTvfiD1UkbstnjDwrdJa3aqLTBqoaBGpPJ75YSpw_rqESl0bsrtTA8X09RB1GCgxLRVMk\n",
            "Resolving developer.download.nvidia.com (developer.download.nvidia.com)... 152.195.19.142\n",
            "Connecting to developer.download.nvidia.com (developer.download.nvidia.com)|152.195.19.142|:443... connected.\n",
            "HTTP request sent, awaiting response... 200 OK\n",
            "Length: 1267391958 (1.2G) [application/x-deb]\n",
            "Saving to: ‘cuda-repo-ubuntu1604-9-2-local_9.2.88-1_amd64.deb’\n",
            "\n",
            "cuda-repo-ubuntu160 100%[===================>]   1.18G   224MB/s    in 5.0s    \n",
            "\n",
            "2022-03-22 12:03:33 (242 MB/s) - ‘cuda-repo-ubuntu1604-9-2-local_9.2.88-1_amd64.deb’ saved [1267391958/1267391958]\n",
            "\n",
            "(Reading database ... 165511 files and directories currently installed.)\n",
            "Preparing to unpack cuda-repo-ubuntu1604-9-2-local_9.2.88-1_amd64.deb ...\n",
            "Unpacking cuda-repo-ubuntu1604-9-2-local (9.2.88-1) over (9.2.88-1) ...\n",
            "Setting up cuda-repo-ubuntu1604-9-2-local (9.2.88-1) ...\n",
            "OK\n",
            "Get:1 file:/var/cuda-repo-9-2-local  InRelease\n",
            "Ign:1 file:/var/cuda-repo-9-2-local  InRelease\n",
            "Get:2 file:/var/cuda-repo-9-2-local  Release [574 B]\n",
            "Get:2 file:/var/cuda-repo-9-2-local  Release [574 B]\n",
            "Hit:3 https://cloud.r-project.org/bin/linux/ubuntu bionic-cran40/ InRelease\n",
            "Ign:4 https://developer.download.nvidia.com/compute/cuda/repos/ubuntu1804/x86_64  InRelease\n",
            "Ign:5 https://developer.download.nvidia.com/compute/machine-learning/repos/ubuntu1804/x86_64  InRelease\n",
            "Hit:6 https://developer.download.nvidia.com/compute/cuda/repos/ubuntu1804/x86_64  Release\n",
            "Hit:7 https://developer.download.nvidia.com/compute/machine-learning/repos/ubuntu1804/x86_64  Release\n",
            "Get:9 http://security.ubuntu.com/ubuntu bionic-security InRelease [88.7 kB]\n",
            "Hit:10 http://ppa.launchpad.net/c2d4u.team/c2d4u4.0+/ubuntu bionic InRelease\n",
            "Hit:11 http://archive.ubuntu.com/ubuntu bionic InRelease\n",
            "Get:12 http://archive.ubuntu.com/ubuntu bionic-updates InRelease [88.7 kB]\n",
            "Hit:14 http://ppa.launchpad.net/cran/libgit2/ubuntu bionic InRelease\n",
            "Hit:16 http://ppa.launchpad.net/deadsnakes/ppa/ubuntu bionic InRelease\n",
            "Get:17 http://archive.ubuntu.com/ubuntu bionic-backports InRelease [74.6 kB]\n",
            "Hit:18 http://ppa.launchpad.net/graphics-drivers/ppa/ubuntu bionic InRelease\n",
            "Fetched 252 kB in 2s (130 kB/s)\n",
            "Reading package lists... Done\n",
            "Reading package lists... Done\n",
            "Building dependency tree       \n",
            "Reading state information... Done\n",
            "Note, selecting 'cuda-9-2' for regex 'cuda-9.2'\n",
            "Note, selecting 'libcuda-9.2-1' for regex 'cuda-9.2'\n",
            "cuda-9-2 is already the newest version (9.2.88-1).\n",
            "0 upgraded, 0 newly installed, 0 to remove and 69 not upgraded.\n"
          ]
        }
      ]
    },
    {
      "cell_type": "code",
      "source": [
        "!nvcc --version"
      ],
      "metadata": {
        "colab": {
          "base_uri": "https://localhost:8080/"
        },
        "id": "K_TLQBzp8Mim",
        "outputId": "150698ea-e4b7-45ed-9421-c97f952e4677"
      },
      "execution_count": 13,
      "outputs": [
        {
          "output_type": "stream",
          "name": "stdout",
          "text": [
            "nvcc: NVIDIA (R) Cuda compiler driver\n",
            "Copyright (c) 2005-2018 NVIDIA Corporation\n",
            "Built on Wed_Apr_11_23:16:29_CDT_2018\n",
            "Cuda compilation tools, release 9.2, V9.2.88\n"
          ]
        }
      ]
    },
    {
      "cell_type": "code",
      "source": [
        "!pip install git+git://github.com/andreinechaev/nvcc4jupyter.git\n"
      ],
      "metadata": {
        "colab": {
          "base_uri": "https://localhost:8080/"
        },
        "id": "ID4xYYlP8ZGd",
        "outputId": "26578701-724d-465a-910a-192d4f3843cf"
      },
      "execution_count": 14,
      "outputs": [
        {
          "output_type": "stream",
          "name": "stdout",
          "text": [
            "Collecting git+git://github.com/andreinechaev/nvcc4jupyter.git\n",
            "  Cloning git://github.com/andreinechaev/nvcc4jupyter.git to /tmp/pip-req-build-5kbtge2t\n",
            "  Running command git clone -q git://github.com/andreinechaev/nvcc4jupyter.git /tmp/pip-req-build-5kbtge2t\n",
            "  fatal: remote error:\n",
            "    The unauthenticated git protocol on port 9418 is no longer supported.\n",
            "  Please see https://github.blog/2021-09-01-improving-git-protocol-security-github/ for more information.\n",
            "\u001b[33mWARNING: Discarding git+git://github.com/andreinechaev/nvcc4jupyter.git. Command errored out with exit status 128: git clone -q git://github.com/andreinechaev/nvcc4jupyter.git /tmp/pip-req-build-5kbtge2t Check the logs for full command output.\u001b[0m\n",
            "\u001b[31mERROR: Command errored out with exit status 128: git clone -q git://github.com/andreinechaev/nvcc4jupyter.git /tmp/pip-req-build-5kbtge2t Check the logs for full command output.\u001b[0m\n"
          ]
        }
      ]
    },
    {
      "cell_type": "code",
      "source": [
        "STEP_SIZE_TRAIN = train_generator.n//train_generator.batch_size\n",
        "STEP_SIZE_VALID = valid_generator.n//valid_generator.batch_size\n",
        "STEP_SIZE_TEST = test_generator.n//test_generator.batch_size\n",
        "\n",
        "train = model.fit(train_generator,\n",
        "          steps_per_epoch = STEP_SIZE_TRAIN,\n",
        "          validation_data = valid_generator,\n",
        "          validation_steps = STEP_SIZE_VALID,\n",
        "          epochs=5)"
      ],
      "metadata": {
        "colab": {
          "base_uri": "https://localhost:8080/"
        },
        "id": "1e19rahY2g6p",
        "outputId": "67d3f74a-9219-4f40-bf69-9694f94f96e2"
      },
      "execution_count": 15,
      "outputs": [
        {
          "output_type": "stream",
          "name": "stdout",
          "text": [
            "Epoch 1/5\n",
            "89/89 [==============================] - 119s 1s/step - loss: 3.7641 - accuracy: 0.2864 - val_loss: 3.5509 - val_accuracy: 0.3378\n",
            "Epoch 2/5\n",
            "89/89 [==============================] - 100s 1s/step - loss: 3.1055 - accuracy: 0.3446 - val_loss: 2.8772 - val_accuracy: 0.3737\n",
            "Epoch 3/5\n",
            "89/89 [==============================] - 100s 1s/step - loss: 2.8494 - accuracy: 0.3911 - val_loss: 2.7975 - val_accuracy: 0.4203\n",
            "Epoch 4/5\n",
            "89/89 [==============================] - 99s 1s/step - loss: 2.7227 - accuracy: 0.4115 - val_loss: 2.8008 - val_accuracy: 0.3912\n",
            "Epoch 5/5\n",
            "89/89 [==============================] - 99s 1s/step - loss: 2.6376 - accuracy: 0.4294 - val_loss: 2.7054 - val_accuracy: 0.4242\n"
          ]
        }
      ]
    },
    {
      "cell_type": "code",
      "source": [
        "plt.figure()\n",
        "plt.plot(train.history['loss'], 'blue')\n",
        "plt.plot(train.history['val_loss'], 'red')\n",
        "plt.legend(['Training Loss', 'Validation Loss'])\n",
        "plt.xlabel('Epochs')\n",
        "plt.ylabel('Loss')\n",
        "\n",
        "plt.figure()\n",
        "plt.plot(train.history['accuracy'], 'blue')\n",
        "plt.plot(train.history['val_accuracy'], 'red')\n",
        "plt.legend(['Training Accuracy', 'Validation Accuracy'])\n",
        "plt.xlabel('Epochs')\n",
        "plt.ylabel('Accuracy')"
      ],
      "metadata": {
        "colab": {
          "base_uri": "https://localhost:8080/",
          "height": 559
        },
        "id": "lcUIq3ojPM7N",
        "outputId": "e1678100-b894-4b33-8224-a5fb7ed4bc21"
      },
      "execution_count": 16,
      "outputs": [
        {
          "output_type": "execute_result",
          "data": {
            "text/plain": [
              "Text(0, 0.5, 'Accuracy')"
            ]
          },
          "metadata": {},
          "execution_count": 16
        },
        {
          "output_type": "display_data",
          "data": {
            "text/plain": [
              "<Figure size 432x288 with 1 Axes>"
            ],
            "image/png": "[encoded data removed]"
          },
          "metadata": {
            "needs_background": "light"
          }
        },
        {
          "output_type": "display_data",
          "data": {
            "text/plain": [
              "<Figure size 432x288 with 1 Axes>"
            ],
            "image/png": "[encoded data removed]"
          },
          "metadata": {
            "needs_background": "light"
          }
        }
      ]
    },
    {
      "cell_type": "code",
      "source": [
        "model.evaluate(valid_generator, steps=STEP_SIZE_TEST)\n"
      ],
      "metadata": {
        "colab": {
          "base_uri": "https://localhost:8080/"
        },
        "id": "a_cMw1wfPVdp",
        "outputId": "8d3f57d9-2d81-4d8f-c825-1da7f41c4664"
      },
      "execution_count": 17,
      "outputs": [
        {
          "output_type": "stream",
          "name": "stdout",
          "text": [
            " 30/119 [======>.......................] - ETA: 1:44 - loss: 2.7181 - accuracy: 0.4234WARNING:tensorflow:Your input ran out of data; interrupting training. Make sure that your dataset or generator can generate at least `steps_per_epoch * epochs` batches (in this case, 119 batches). You may need to use the repeat() function when building your dataset.\n",
            "119/119 [==============================] - 35s 291ms/step - loss: 2.7181 - accuracy: 0.4234\n"
          ]
        },
        {
          "output_type": "execute_result",
          "data": {
            "text/plain": [
              "[2.7180545330047607, 0.42336198687553406]"
            ]
          },
          "metadata": {},
          "execution_count": 17
        }
      ]
    },
    {
      "cell_type": "code",
      "source": [
        "test_generator.reset()\n",
        "pred = model.predict(test_generator, steps=STEP_SIZE_TEST, verbose=1)"
      ],
      "metadata": {
        "colab": {
          "base_uri": "https://localhost:8080/"
        },
        "id": "lIITlopiPjJt",
        "outputId": "07219c5c-e8ed-4f1c-d852-03dd43533aa7"
      },
      "execution_count": 18,
      "outputs": [
        {
          "output_type": "stream",
          "name": "stdout",
          "text": [
            "119/119 [==============================] - 98s 826ms/step\n"
          ]
        }
      ]
    },
    {
      "cell_type": "code",
      "source": [
        "test_generator2.reset()\n",
        "pred2 = model.predict(test_generator2, steps=STEP_SIZE_TEST, verbose=1)"
      ],
      "metadata": {
        "colab": {
          "base_uri": "https://localhost:8080/"
        },
        "id": "DZnuVO6rPnYj",
        "outputId": "776b4547-47ff-476d-e29a-4008f96e1b2b"
      },
      "execution_count": 19,
      "outputs": [
        {
          "output_type": "stream",
          "name": "stdout",
          "text": [
            " 61/119 [==============>...............] - ETA: 51sWARNING:tensorflow:Your input ran out of data; interrupting training. Make sure that your dataset or generator can generate at least `steps_per_epoch * epochs` batches (in this case, 119 batches). You may need to use the repeat() function when building your dataset.\n",
            "119/119 [==============================] - 54s 450ms/step\n"
          ]
        }
      ]
    },
    {
      "cell_type": "code",
      "source": [
        "predicted_class_indices = np.argmax(pred, axis=1)\n",
        "predicted_class_indices2 = np.argmax(pred2, axis=1)\n",
        "\n",
        "labels = (train_generator.class_indices)\n",
        "labels = dict((v, k) for k, v in labels.items())\n",
        "predictions = [labels[k] for k in predicted_class_indices]\n",
        "\n",
        "filenames = test_generator.filenames\n",
        "predict = pd.DataFrame(predictions, columns=['tags'])\n",
        "filename = pd.DataFrame(filenames, columns=['image_name'])[:40669]"
      ],
      "metadata": {
        "id": "In2Tg9dWPtEi"
      },
      "execution_count": 20,
      "outputs": []
    },
    {
      "cell_type": "code",
      "source": [
        "labels2 = (train_generator.class_indices)\n",
        "labels2 = dict((v, k) for k, v in labels2.items())\n",
        "predictions2 = [labels2[k] for k in predicted_class_indices2]\n",
        "\n",
        "filenames = test_generator2.filenames\n",
        "predict2 = pd.DataFrame(predictions2, columns=['tags'])\n",
        "filename2 = pd.DataFrame(filenames, columns=['image_name'])\n",
        "\n",
        "# saving predictions to csv file\n",
        "results = pd.concat([filename, predict], axis=1)\n",
        "results2 = pd.concat([filename2, predict2], axis=1)\n",
        "final_result = pd.concat([results, results2])"
      ],
      "metadata": {
        "id": "uRtSlTDmP2XR"
      },
      "execution_count": 21,
      "outputs": []
    },
    {
      "cell_type": "code",
      "source": [
        "final_result\n",
        "final_result.to_csv(\"/content/final-results6N\n",
        ".csv\", index=False)"
      ],
      "metadata": {
        "id": "wYBGiK0ZQI_3"
      },
      "execution_count": 22,
      "outputs": []
    },
    {
      "cell_type": "code",
      "source": [
        "dataset=sv_name='train_v2.csv', folder='train-jpg', suffix='.jpg'"
      ],
      "metadata": {
        "id": "KvhrmThUjZOd",
        "colab": {
          "base_uri": "https://localhost:8080/",
          "height": 132
        },
        "outputId": "bb6d2c10-c2ef-44e3-e401-08901c5e34b1"
      },
      "execution_count": 23,
      "outputs": [
        {
          "output_type": "error",
          "ename": "SyntaxError",
          "evalue": "ignored",
          "traceback": [
            "\u001b[0;36m  File \u001b[0;32m\"<ipython-input-23-9c014c4da1fa>\"\u001b[0;36m, line \u001b[0;32m1\u001b[0m\n\u001b[0;31m    dataset=sv_name='train_v2.csv', folder='train-jpg', suffix='.jpg'\u001b[0m\n\u001b[0m                   ^\u001b[0m\n\u001b[0;31mSyntaxError\u001b[0m\u001b[0;31m:\u001b[0m can't assign to literal\n"
          ]
        }
      ]
    }
  ]
}